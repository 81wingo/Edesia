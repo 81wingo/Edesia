{
 "cells": [
  {
   "cell_type": "code",
   "execution_count": 34,
   "metadata": {},
   "outputs": [],
   "source": [
    "#imported libraries\n",
    "from urllib.request import urlopen as uReq\n",
    "from requests import get\n",
    "from bs4 import BeautifulSoup as soup\n",
    "import re\n"
   ]
  },
  {
   "cell_type": "code",
   "execution_count": 35,
   "metadata": {},
   "outputs": [],
   "source": [
    "proteins=['chicken', 'beef', 'steak', 'pork', 'tofu', 'fish', 'lentils']"
   ]
  },
  {
   "cell_type": "markdown",
   "metadata": {},
   "source": [
    "header = {\n",
    "    'User-Agent': 'Mozilla/5.0 (Windows; U; Windows NT 5.1; en-US; rv:1.9.0.7) Gecko/2009021910 Firefox/3.0.7'\n",
    "}\n",
    "\n",
    "#absttact scraper\n",
    "class AbstractScraper():\n",
    "\n",
    "    def __getattribute__(self, name):\n",
    "\n",
    "        if not object.__getattribute__(self, 'testing_mode'):\n",
    "            to_return = None\n",
    "            decorated_methods = [\n",
    "                'title',\n",
    "                'total_time',\n",
    "                'instructions',\n",
    "                'ingredients',\n",
    "                'links'\n",
    "            ]\n",
    "            if name in decorated_methods:\n",
    "                to_return = ''\n",
    "            if name == 'total_time':\n",
    "                to_return = 0\n",
    "            if name == 'ingredients':\n",
    "                to_return = []\n",
    "            if name == 'links':\n",
    "                to_return = []\n",
    "            if to_return is not None:\n",
    "                return on_exception_return(to_return)(object.__getattribute__(self, name))\n",
    "\n",
    "        return object.__getattribute__(self, name)\n",
    "\n",
    "    def __init__(self, url, test=False):\n",
    "        if test:\n",
    "            with url:\n",
    "                self.soup = BeautifulSoup(\n",
    "                    url.read(),    \n",
    "                    \n",
    "                )\n",
    "        else:\n",
    "            self.soup = BeautifulSoup(\n",
    "                requests.get(\n",
    "                    url,\n",
    "                    headers=header,\n",
    "                ).content,\n",
    "\n",
    "            )\n",
    "        self.testing_mode = test\n",
    "        self.url = url\n",
    "\n",
    "    def url(self):\n",
    "        return self.url\n",
    "    def host(self):\n",
    "        raise NotImplementedError(\"This is not implemented\")\n",
    "    def title(self):\n",
    "        raise NotImplementedError(\"This is not implemented\")\n",
    "    def instructions(self):\n",
    "        raise NotImplementedError(\"This is not implemented\")   \n",
    "    def time(self):\n",
    "        raise NotImplementedError(\"This is not implemented\")        \n",
    "    def picture(self):\n",
    "        raise NotImplementedError(\"This is not implemented\")\n",
    "    def ingredients(self):\n",
    "        raise NotImplementedError(\"This is not implemented\")\n",
    "    def category(self):\n",
    "        raise NotImplementedError(\"This is not implemented\")\n",
    "    def nutritional(self):\n",
    "        raise NotImplementedError(\"This is not implemented\")\n",
    "    def instructions(self):\n",
    "        raise NotImplementedError(\"This is not implemented\")\n",
    "    def ratings(self):\n",
    "        raise NotImplementedError(\"This is not implemented\")\n",
    "    def links(self):\n",
    "        invalid_href = ('#', '')\n",
    "        links_html = self.soup.findAll('a', href=True)\n",
    "\n"
   ]
  },
  {
   "cell_type": "code",
   "execution_count": 35,
   "metadata": {},
   "outputs": [
    {
     "ename": "IndentationError",
     "evalue": "expected an indented block (<ipython-input-35-5a19b44c154c>, line 37)",
     "output_type": "error",
     "traceback": [
      "\u001b[1;36m  File \u001b[1;32m\"<ipython-input-35-5a19b44c154c>\"\u001b[1;36m, line \u001b[1;32m37\u001b[0m\n\u001b[1;33m    return re.sub(\u001b[0m\n\u001b[1;37m         ^\u001b[0m\n\u001b[1;31mIndentationError\u001b[0m\u001b[1;31m:\u001b[0m expected an indented block\n"
     ]
    }
   ],
   "source": [
    "#imported libraries\n",
    "from urllib.request import urlopen as uReq\n",
    "from requests import get\n",
    "from bs4 import BeautifulSoup as soup\n",
    "import re\n",
    "#food network\n",
    "recipe_links=[]\n",
    "ingredients=[]\n",
    "title=[]\n",
    "instructions =[]\n",
    "time=[]\n",
    "picture =[]\n",
    "food_category=[]\n",
    "nutritional =[]\n",
    "\n",
    "class food_network():\n",
    "#    @classmethod\n",
    "    def host(self):\n",
    "        return \"https://www.foodnetwork.com/\"\n",
    "    def title(self):\n",
    "        return self.soup.find('h1').get_text().strip()\n",
    "\n",
    "    def total_time(self):\n",
    "        return get_minutes(self.soup.find('span',{'class': 'm-RecipeInfo__a-Description--Total'}))\n",
    "\n",
    "    def ingredients(self):\n",
    "        ingredient = self.soup.findAll( 'p', {'class': 'o-Ingredients__a-Ingredient'})\n"
   ]
  },
  {
   "cell_type": "code",
   "execution_count": 49,
   "metadata": {},
   "outputs": [
    {
     "name": "stdout",
     "output_type": "stream",
     "text": [
      "[<li class=\"o-Method__m-Step\">\n",
      "              2 to 3 days before roasting: \n",
      "            </li>, <li class=\"o-Method__m-Step\">\n",
      "              Begin thawing the turkey in the refrigerator or in a cooler kept at 38 degrees F. \n",
      "            </li>, <li class=\"o-Method__m-Step\">\n",
      "              Combine the vegetable stock, salt, brown sugar, peppercorns, allspice berries, and candied ginger in a large stockpot over medium-high heat. Stir occasionally to dissolve solids and bring to a boil. Then remove the brine from the heat, cool to room temperature, and refrigerate. \n",
      "            </li>, <li class=\"o-Method__m-Step\">\n",
      "              Early on the day or the night before you'd like to eat: \n",
      "            </li>, <li class=\"o-Method__m-Step\">\n",
      "              Combine the brine, water and ice in the 5-gallon bucket. Place the thawed turkey (with innards removed) breast side down in brine. If necessary, weigh down the bird to ensure it is fully immersed, cover, and refrigerate or set in cool area for 8 to 16 hours, turning the bird once half way through brining.\n",
      "            </li>, <li class=\"o-Method__m-Step\">\n",
      "              Preheat the oven to 500 degrees F. Remove the bird from brine and rinse inside and out with cold water. Discard the brine. \n",
      "            </li>, <li class=\"o-Method__m-Step\">\n",
      "              Place the bird on roasting rack inside a half sheet pan and pat dry with paper towels. \n",
      "            </li>, <li class=\"o-Method__m-Step\">\n",
      "              Combine the apple, onion, cinnamon stick, and 1 cup of water in a microwave safe dish and microwave on high for 5 minutes. Add steeped aromatics to the turkey's cavity along with the rosemary and sage. Tuck the wings underneath the bird and coat the skin liberally with canola oil. \n",
      "            </li>, <li class=\"o-Method__m-Step\">\n",
      "              Roast the turkey on lowest level of the oven at 500 degrees F for 30 minutes. Insert a probe thermometer into thickest part of the breast and reduce the oven temperature to 350 degrees F. Set the thermometer alarm (if available) to 161 degrees F. A 14 to 16 pound bird should require a total of 2 to 2 1/2 hours of roasting. Let the turkey rest, loosely covered with foil or a large mixing bowl for 15 minutes before carving.\n",
      "            </li>]\n"
     ]
    }
   ],
   "source": [
    "#imported libraries\n",
    "from urllib.request import urlopen as uReq\n",
    "from requests import get\n",
    "from bs4 import BeautifulSoup as soup#allrecipes.com\n",
    "url_string = \"https://www.foodnetwork.com/recipes/alton-brown/good-eats-roast-turkey-recipe-1950271\"\n",
    "#read in the html and \n",
    "uClient = uReq(url_string)\n",
    "page_html = uClient.read()\n",
    "uClient.close()\n",
    "#html parsing\n",
    "page_soup = soup(page_html,\"html.parser\")\n",
    "title = page_soup.find('h1')\n",
    "#print(page_soup.body)\n",
    "ingredients =page_soup.findAll('p',{'class': 'o-Ingredients__a-Ingredient'})\n",
    "instructions = page_soup.findAll('li',{'class': 'o-Method__m-Step'})\n",
    "time = page_soup.find('span',{'class': 'm-RecipeInfo__a-Description--Total'}).text\n",
    "print(instructions)\n",
    "\n",
    "        "
   ]
  },
  {
   "cell_type": "markdown",
   "metadata": {},
   "source": []
  },
  {
   "cell_type": "code",
   "execution_count": null,
   "metadata": {},
   "outputs": [],
   "source": []
  },
  {
   "cell_type": "code",
   "execution_count": null,
   "metadata": {},
   "outputs": [],
   "source": []
  }
 ],
 "metadata": {
  "kernelspec": {
   "display_name": "Python 3",
   "language": "python",
   "name": "python3"
  },
  "language_info": {
   "codemirror_mode": {
    "name": "ipython",
    "version": 3
   },
   "file_extension": ".py",
   "mimetype": "text/x-python",
   "name": "python",
   "nbconvert_exporter": "python",
   "pygments_lexer": "ipython3",
   "version": "3.7.1"
  }
 },
 "nbformat": 4,
 "nbformat_minor": 2
}
