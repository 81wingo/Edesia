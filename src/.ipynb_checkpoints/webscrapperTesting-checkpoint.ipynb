{
 "cells": [
  {
   "cell_type": "code",
   "execution_count": 1,
   "metadata": {},
   "outputs": [],
   "source": [
    "#imported libraries\n",
    "from urllib.request import urlopen\n",
    "from bs4 import BeautifulSoup\n",
    "import re\n"
   ]
  },
  {
   "cell_type": "code",
   "execution_count": 6,
   "metadata": {},
   "outputs": [],
   "source": [
    "proteins=['chicken', 'beef', 'steak', 'pork', 'tofu']"
   ]
  },
  {
   "cell_type": "code",
   "execution_count": 9,
   "metadata": {},
   "outputs": [],
   "source": [
    "#allrecipes webscraper\n",
    "recipe_links=[]\n",
    "ingredients=[]\n",
    "title=[]\n",
    "\n",
    "#allrecipes.com\n",
    "website_string = \"https://www.allrecipes.com/search/results/?wt=\"\n",
    "for protein in proteins:\n",
    "    #sort = popular\n",
    "        search_string = (website_string + protein +\"&sort=p\")\n",
    "        recipe_page = search_string\n",
    "        page = urlopen(recipe_page)\n",
    "\n",
    "        "
   ]
  },
  {
   "cell_type": "code",
   "execution_count": null,
   "metadata": {},
   "outputs": [],
   "source": [
    "#food network\n",
    "recipe_links=[]\n",
    "ingredients=[]\n",
    "title=[]\n",
    "\n",
    "#allrecipes.com\n",
    "website_string = \"https://www.foodnetwork.com/search/\"\n",
    "for protein in proteins:\n",
    "    #sort = highest rated\n",
    "        search_string = (website_string + protein +\"-/rating\")\n",
    "        recipe_page = search_string\n",
    "        page = urlopen(recipe_page)"
   ]
  },
  {
   "cell_type": "code",
   "execution_count": null,
   "metadata": {},
   "outputs": [],
   "source": [
    "#delish\n",
    "recipe_links=[]\n",
    "ingredients=[]\n",
    "title=[]\n",
    "\n",
    "#allrecipes.com\n",
    "website_string = \"https://www.delish.com/search/?q=\"\n",
    "for protein in proteins:\n",
    "    #sort = highest rated\n",
    "        search_string = (website_string + protein)\n",
    "        recipe_page = search_string\n",
    "        page = urlopen(recipe_page)"
   ]
  }
 ],
 "metadata": {
  "kernelspec": {
   "display_name": "Python 3",
   "language": "python",
   "name": "python3"
  },
  "language_info": {
   "codemirror_mode": {
    "name": "ipython",
    "version": 3
   },
   "file_extension": ".py",
   "mimetype": "text/x-python",
   "name": "python",
   "nbconvert_exporter": "python",
   "pygments_lexer": "ipython3",
   "version": "3.7.1"
  }
 },
 "nbformat": 4,
 "nbformat_minor": 2
}
